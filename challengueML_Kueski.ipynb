{
 "cells": [
  {
   "cell_type": "code",
   "execution_count": 1,
   "metadata": {},
   "outputs": [],
   "source": [
    "\"\"\"\n",
    "Loading important package of spark\n",
    "\"\"\"\n",
    "from pyspark.sql import SparkSession\n",
    "from pyspark.sql import Window\n",
    "from pyspark import SparkContext\n",
    "import pyspark.sql.functions as F\n",
    "from pyspark.sql.functions import *"
   ]
  },
  {
   "cell_type": "code",
   "execution_count": 2,
   "metadata": {},
   "outputs": [],
   "source": [
    "\"\"\"\n",
    "Spark session creater\n",
    "\"\"\"\n",
    "st = SparkSession \\\n",
    "        .builder \\\n",
    "        .appName('ChallengeML') \\\n",
    "        .getOrCreate()"
   ]
  },
  {
   "cell_type": "code",
   "execution_count": 3,
   "metadata": {},
   "outputs": [],
   "source": [
    "\"\"\"\n",
    "Load data function for loading data..\n",
    "@param -\n",
    "        path - path of file\n",
    "        header_value - header value, incase true first row will be header\n",
    "\n",
    "@return - dataframe of loaded intended data.\n",
    "\"\"\"\n",
    "\n",
    "def load_data(path,header_value):\n",
    "  df = st.read.csv(path,inferSchema=True,header=header_value)\n",
    "  return df"
   ]
  },
  {
   "cell_type": "code",
   "execution_count": 4,
   "metadata": {},
   "outputs": [],
   "source": [
    "df = load_data('/Users/eduardobertaud/Desktop/challengeML/rating.csv',True)"
   ]
  },
  {
   "cell_type": "code",
   "execution_count": 5,
   "metadata": {},
   "outputs": [],
   "source": [
    "\"\"\"\n",
    "Functions to get nb_previous_ratings and avg_ratings_previous..\n",
    "@param -\n",
    "        dataFrame - Data frame with rates\n",
    "\n",
    "@return - dataframe of loaded intended data.\n",
    "\"\"\"\n",
    "def nb_previous_ratings(df):\n",
    "    df=df.withColumn(\"nb_previous_ratings\",rank().over(Window.partitionBy(\"userId\").orderBy(\"timestamp\")) -1 )\n",
    "    return df\n",
    "\n",
    "def avg_ratings_previous(df):\n",
    "  WindowSpec = Window.partitionBy(\"userId\").rowsBetween(Window.unboundedPreceding,-1)\n",
    "\n",
    "  df = df.withColumn(\"avg_ratings_previous\", F.avg(F.col(\"rating\")).over(WindowSpec.orderBy(\"userId\", \"timestamp\")))\n",
    "  return df"
   ]
  },
  {
   "cell_type": "code",
   "execution_count": 6,
   "metadata": {},
   "outputs": [],
   "source": [
    "\"\"\"\n",
    "calling Function nb_previous_rating and assign to dataFrame\n",
    "\"\"\"\n",
    "df = nb_previous_ratings(df)\n",
    "\n",
    "\"\"\"\n",
    "calling Function nb_previous_rating and assign to dataFrame\n",
    "\"\"\"\n",
    "df = avg_ratings_previous(df)"
   ]
  },
  {
   "cell_type": "code",
   "execution_count": null,
   "metadata": {},
   "outputs": [],
   "source": []
  },
  {
   "cell_type": "code",
   "execution_count": 7,
   "metadata": {},
   "outputs": [],
   "source": [
    "\"\"\"\n",
    "Creating a new parquet file with the changes created\n",
    "\"\"\"\n",
    "df.write.mode('overwrite').parquet(\"/Users/eduardobertaud/Desktop/challengeML/new_ratings.parquet\")"
   ]
  },
  {
   "cell_type": "code",
   "execution_count": 8,
   "metadata": {},
   "outputs": [
    {
     "data": {
      "text/plain": [
       "'\\nStop the spark session\\n'"
      ]
     },
     "execution_count": 8,
     "metadata": {},
     "output_type": "execute_result"
    }
   ],
   "source": [
    "\"\"\"\n",
    "Stop the spark session\n",
    "\"\"\"\n",
    "#st.stop()"
   ]
  }
 ],
 "metadata": {
  "kernelspec": {
   "display_name": "Python 3",
   "language": "python",
   "name": "python3"
  },
  "language_info": {
   "codemirror_mode": {
    "name": "ipython",
    "version": 3
   },
   "file_extension": ".py",
   "mimetype": "text/x-python",
   "name": "python",
   "nbconvert_exporter": "python",
   "pygments_lexer": "ipython3",
   "version": "3.7.6"
  }
 },
 "nbformat": 4,
 "nbformat_minor": 4
}
